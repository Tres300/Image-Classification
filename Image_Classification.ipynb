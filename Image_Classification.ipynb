{
  "nbformat": 4,
  "nbformat_minor": 0,
  "metadata": {
    "colab": {
      "provenance": [],
      "collapsed_sections": [
        "OClcegJVrF8Y"
      ]
    },
    "kernelspec": {
      "name": "python3",
      "display_name": "Python 3"
    },
    "language_info": {
      "name": "python"
    }
  },
  "cells": [
    {
      "cell_type": "markdown",
      "source": [
        "## Introduction"
      ],
      "metadata": {
        "id": "cOSJyABoshOK"
      }
    },
    {
      "cell_type": "markdown",
      "source": [
        "This code attempts to classify the MNIST dataset using a convolution, max pooling, and then an MLP neural network."
      ],
      "metadata": {
        "id": "UnbNyvOgfr1B"
      }
    },
    {
      "cell_type": "markdown",
      "source": [
        "## Import libraries"
      ],
      "metadata": {
        "id": "jL_skqvRHiXd"
      }
    },
    {
      "cell_type": "code",
      "execution_count": 43,
      "metadata": {
        "id": "DQZAzYri_ru5"
      },
      "outputs": [],
      "source": [
        "import matplotlib.pyplot as plt\n",
        "import numpy as np\n",
        "import pandas as pd\n",
        "from keras.datasets import mnist\n",
        "from sklearn.neural_network import MLPClassifier\n",
        "from skimage.measure import block_reduce\n",
        "from sklearn.metrics import confusion_matrix\n",
        "from sklearn.metrics import accuracy_score"
      ]
    },
    {
      "cell_type": "markdown",
      "source": [
        "## Load data"
      ],
      "metadata": {
        "id": "7fHMPuqYfz_7"
      }
    },
    {
      "cell_type": "markdown",
      "source": [
        "### The data"
      ],
      "metadata": {
        "id": "PQfz_To0dhYX"
      }
    },
    {
      "cell_type": "markdown",
      "source": [
        "The MNIST dataset consists of 28 by 28 handwritten digits 0-9. The training set has 60,000 examples, and the test set has 10,000 examples.\n"
      ],
      "metadata": {
        "id": "v7Kz34aWiR-g"
      }
    },
    {
      "cell_type": "markdown",
      "source": [
        "### Load the data"
      ],
      "metadata": {
        "id": "5qccuG8vy7Ja"
      }
    },
    {
      "cell_type": "markdown",
      "source": [
        "Load the MNIST data set"
      ],
      "metadata": {
        "id": "eJEcz0yYiY0r"
      }
    },
    {
      "cell_type": "code",
      "source": [
        "%%clear\n",
        "(x_train, y_train), (x_test, y_test) = mnist.load_data()"
      ],
      "metadata": {
        "id": "iClV9MZBiY0r"
      },
      "execution_count": null,
      "outputs": []
    },
    {
      "cell_type": "markdown",
      "source": [
        "## Convolution"
      ],
      "metadata": {
        "id": "oK-cc1WFcXYD"
      }
    },
    {
      "cell_type": "markdown",
      "source": [
        "### Convolve image function\n",
        "\n",
        "This function convolves a single image using a bias of 0 and a kernal for edge detection found from: https://en.wikipedia.org/wiki/Kernel_(image_processing)"
      ],
      "metadata": {
        "id": "YCpQzALRcbJN"
      }
    },
    {
      "cell_type": "code",
      "source": [
        "def convolve_img(image):\n",
        "  kernel = np.array([\n",
        "      [0, -1, 0],\n",
        "      [-1, 4, -1],\n",
        "      [0, -1, 0]])\n",
        "  bias = 0\n",
        "\n",
        "  m, n = kernel.shape\n",
        "  if (m == n):\n",
        "    y, x = image.shape\n",
        "    y = y - m + 1\n",
        "    x = x - m + 1\n",
        "    new_image = np.zeros((y,x))\n",
        "    for i in range(y):\n",
        "      for j in range(x):\n",
        "        new_image[i][j] = np.sum(image[i:i+m, j:j+m]*kernel) + bias\n",
        "  return new_image"
      ],
      "metadata": {
        "id": "neehAtipcana"
      },
      "execution_count": 30,
      "outputs": []
    },
    {
      "cell_type": "markdown",
      "source": [
        "### Convolve images"
      ],
      "metadata": {
        "id": "HPMgDP8_clIx"
      }
    },
    {
      "cell_type": "code",
      "source": [
        "for image in x_train:\n",
        "  image = convolve_img(image)\n",
        "\n",
        "for image in x_test:\n",
        "  image = convolve_img(image)"
      ],
      "metadata": {
        "id": "xbAK22ZXcu7Y"
      },
      "execution_count": 31,
      "outputs": []
    },
    {
      "cell_type": "markdown",
      "source": [
        "## Pooling"
      ],
      "metadata": {
        "id": "LXXU3Ylyc8fx"
      }
    },
    {
      "cell_type": "markdown",
      "source": [
        "### Pool images\n",
        "Here we are using max pooling with a 2 by 2 kernal."
      ],
      "metadata": {
        "id": "CxCygo51dPBG"
      }
    },
    {
      "cell_type": "code",
      "source": [
        "kernal = (2,2)\n",
        "func = np.max"
      ],
      "metadata": {
        "id": "zEuXARo_gAE_"
      },
      "execution_count": 33,
      "outputs": []
    },
    {
      "cell_type": "code",
      "source": [
        "for image in x_train:\n",
        "  image = block_reduce(image, kernal, func)\n",
        "\n",
        "for image in x_test:\n",
        "  image = block_reduce(image, kernal, func)"
      ],
      "metadata": {
        "id": "wMJZqEeZfKTf"
      },
      "execution_count": 34,
      "outputs": []
    },
    {
      "cell_type": "markdown",
      "source": [
        "## Convert images to 1D\n",
        "\n",
        "Reshape the images so each image is an array."
      ],
      "metadata": {
        "id": "WpQcpkHLWIPK"
      }
    },
    {
      "cell_type": "code",
      "source": [
        "x_train = x_train.reshape(x_train.shape[0], -1)\n",
        "x_test = x_test.reshape(x_test.shape[0], -1)"
      ],
      "metadata": {
        "id": "0kokO1m8YW0Z"
      },
      "execution_count": 36,
      "outputs": []
    },
    {
      "cell_type": "markdown",
      "source": [
        "## Neural Network Classification\n",
        "\n",
        "Use an MLP classifier with sklearn's default parameters."
      ],
      "metadata": {
        "id": "520InVO2fEO5"
      }
    },
    {
      "cell_type": "code",
      "source": [
        "nn = MLPClassifier()\n",
        "nn.fit(x_train, y_train)\n",
        "pred_train = nn.predict(x_train)\n",
        "pred_test = nn.predict(x_test)"
      ],
      "metadata": {
        "id": "Ot9kK6HtVFyp"
      },
      "execution_count": 37,
      "outputs": []
    },
    {
      "cell_type": "markdown",
      "source": [
        "# Results"
      ],
      "metadata": {
        "id": "byzvl5-1qHai"
      }
    },
    {
      "cell_type": "markdown",
      "source": [
        "## Training"
      ],
      "metadata": {
        "id": "5l6_m6o8qI52"
      }
    },
    {
      "cell_type": "code",
      "source": [
        "confusion_matrix(y_train, pred_train)"
      ],
      "metadata": {
        "colab": {
          "base_uri": "https://localhost:8080/"
        },
        "id": "_hWGEPGyktH6",
        "outputId": "ac294945-c1b4-47ea-db34-688765946132"
      },
      "execution_count": 40,
      "outputs": [
        {
          "output_type": "execute_result",
          "data": {
            "text/plain": [
              "array([[5892,    2,    0,    1,    1,    0,    9,    1,   15,    2],\n",
              "       [   0, 6736,    1,    0,    1,    0,    2,    0,    2,    0],\n",
              "       [   3,    1, 5929,    4,    6,    0,    0,    5,    9,    1],\n",
              "       [   1,    1,   12, 6077,    0,   16,    0,    0,   16,    8],\n",
              "       [   1,    3,    0,    0, 5807,    0,    2,    2,    1,   26],\n",
              "       [   1,    0,    0,    4,    1, 5379,   24,    0,    5,    7],\n",
              "       [   1,    0,    0,    0,    2,    1, 5911,    0,    2,    1],\n",
              "       [   0,   11,    0,    3,    0,    0,    0, 6237,    4,   10],\n",
              "       [   7,    1,    0,    3,    1,    8,    9,    0, 5810,   12],\n",
              "       [   3,    3,    1,    5,    0,    2,    0,    3,   10, 5922]])"
            ]
          },
          "metadata": {},
          "execution_count": 40
        }
      ]
    },
    {
      "cell_type": "code",
      "source": [
        "print(f\"Accuracy: {accuracy_score(y_train, pred_train)}\")"
      ],
      "metadata": {
        "colab": {
          "base_uri": "https://localhost:8080/"
        },
        "id": "sPbwaRFZpjmr",
        "outputId": "a1c37b63-0bc3-4c2d-a403-1887cb33d611"
      },
      "execution_count": 44,
      "outputs": [
        {
          "output_type": "stream",
          "name": "stdout",
          "text": [
            "Accuracy: 0.995\n"
          ]
        }
      ]
    },
    {
      "cell_type": "markdown",
      "source": [
        "## Testing"
      ],
      "metadata": {
        "id": "phDkoqQHkU6H"
      }
    },
    {
      "cell_type": "code",
      "source": [
        "confusion_matrix(y_test, pred_test)"
      ],
      "metadata": {
        "colab": {
          "base_uri": "https://localhost:8080/"
        },
        "id": "yISFJlIIkXat",
        "outputId": "f4e4e48e-ab2e-45a5-948a-034e34668e1e"
      },
      "execution_count": 41,
      "outputs": [
        {
          "output_type": "execute_result",
          "data": {
            "text/plain": [
              "array([[ 961,    2,    1,    0,    2,    0,    9,    1,    2,    2],\n",
              "       [   0, 1118,    3,    3,    0,    1,    4,    0,    6,    0],\n",
              "       [   3,    4, 1001,    5,    2,    2,    2,    5,    7,    1],\n",
              "       [   0,    1,    6,  975,    0,   11,    0,    6,    9,    2],\n",
              "       [   2,    1,    0,    0,  948,    0,    7,    5,    2,   17],\n",
              "       [   5,    0,    1,   12,    1,  847,   12,    3,    6,    5],\n",
              "       [   6,    3,    0,    0,    4,    4,  937,    1,    1,    2],\n",
              "       [   1,    6,    9,    4,    1,    1,    0,  996,    3,    7],\n",
              "       [   5,    2,    6,    9,    5,    4,    7,    4,  925,    7],\n",
              "       [   3,    6,    0,    7,    7,    4,    0,    4,    8,  970]])"
            ]
          },
          "metadata": {},
          "execution_count": 41
        }
      ]
    },
    {
      "cell_type": "code",
      "source": [
        "print(f\"Accuracy: {accuracy_score(y_test, pred_test)}\")"
      ],
      "metadata": {
        "colab": {
          "base_uri": "https://localhost:8080/"
        },
        "id": "jXBBSYg3p7Z5",
        "outputId": "09bf3d6c-d9c8-4351-b4a6-e218f6f9aed8"
      },
      "execution_count": 45,
      "outputs": [
        {
          "output_type": "stream",
          "name": "stdout",
          "text": [
            "Accuracy: 0.9678\n"
          ]
        }
      ]
    },
    {
      "cell_type": "markdown",
      "source": [
        "## Conclusion\n",
        "This network is not a true convolutional neural network as the convolution and pooling are done as preprossessing steps rather than working as layers within the model itself. However, this model performs well with high accuracy on the testing data using this method."
      ],
      "metadata": {
        "id": "OClcegJVrF8Y"
      }
    }
  ]
}